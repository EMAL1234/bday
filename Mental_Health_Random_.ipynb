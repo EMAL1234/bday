{
  "nbformat": 4,
  "nbformat_minor": 0,
  "metadata": {
    "colab": {
      "provenance": [],
      "mount_file_id": "1Z3KfAR_xdRTDQOw-jEz5HZccg4YzK1_I",
      "authorship_tag": "ABX9TyMhYyy49MJnrwXh3NpJ28hr",
      "include_colab_link": true
    },
    "kernelspec": {
      "name": "python3",
      "display_name": "Python 3"
    },
    "language_info": {
      "name": "python"
    },
    "accelerator": "GPU",
    "gpuClass": "standard"
  },
  "cells": [
    {
      "cell_type": "markdown",
      "metadata": {
        "id": "view-in-github",
        "colab_type": "text"
      },
      "source": [
        "<a href=\"https://colab.research.google.com/github/EMAL1234/bday/blob/master/Mental_Health_Random_.ipynb\" target=\"_parent\"><img src=\"https://colab.research.google.com/assets/colab-badge.svg\" alt=\"Open In Colab\"/></a>"
      ]
    },
    {
      "cell_type": "code",
      "execution_count": null,
      "metadata": {
        "id": "ywI9sSb8UT-c"
      },
      "outputs": [],
      "source": [
        "from google.colab import drive"
      ]
    },
    {
      "cell_type": "code",
      "source": [
        "drive.mount('/content/drive')"
      ],
      "metadata": {
        "id": "-2k0Rc28Wvsr",
        "colab": {
          "base_uri": "https://localhost:8080/"
        },
        "outputId": "237970c9-348d-402d-c13a-329746387bd7"
      },
      "execution_count": null,
      "outputs": [
        {
          "output_type": "stream",
          "name": "stdout",
          "text": [
            "Drive already mounted at /content/drive; to attempt to forcibly remount, call drive.mount(\"/content/drive\", force_remount=True).\n"
          ]
        }
      ]
    },
    {
      "cell_type": "code",
      "source": [
        "import pandas as pd\n",
        "import numpy as np\n",
        "import matplotlib.pyplot as plt\n",
        "import seaborn as sb"
      ],
      "metadata": {
        "id": "i2O5Je0pW4Wa"
      },
      "execution_count": null,
      "outputs": []
    },
    {
      "cell_type": "code",
      "source": [
        "path='/content/drive/MyDrive/survey.csv'\n",
        "data=pd.read_csv(path)\n",
        "data.head(5)"
      ],
      "metadata": {
        "id": "tgcbPaIrW9dn",
        "colab": {
          "base_uri": "https://localhost:8080/",
          "height": 473
        },
        "outputId": "d8757dec-8812-40ae-8418-3c8fca71de75"
      },
      "execution_count": null,
      "outputs": [
        {
          "output_type": "execute_result",
          "data": {
            "text/plain": [
              "             Timestamp  Age  Gender         Country state self_employed  \\\n",
              "0  2014-08-27 11:29:31   37  Female   United States    IL           NaN   \n",
              "1  2014-08-27 11:29:37   44       M   United States    IN           NaN   \n",
              "2  2014-08-27 11:29:44   32    Male          Canada   NaN           NaN   \n",
              "3  2014-08-27 11:29:46   31    Male  United Kingdom   NaN           NaN   \n",
              "4  2014-08-27 11:30:22   31    Male   United States    TX           NaN   \n",
              "\n",
              "  family_history treatment work_interfere    no_employees  ...  \\\n",
              "0             No       Yes          Often            6-25  ...   \n",
              "1             No        No         Rarely  More than 1000  ...   \n",
              "2             No        No         Rarely            6-25  ...   \n",
              "3            Yes       Yes          Often          26-100  ...   \n",
              "4             No        No          Never         100-500  ...   \n",
              "\n",
              "                leave mental_health_consequence phys_health_consequence  \\\n",
              "0       Somewhat easy                        No                      No   \n",
              "1          Don't know                     Maybe                      No   \n",
              "2  Somewhat difficult                        No                      No   \n",
              "3  Somewhat difficult                       Yes                     Yes   \n",
              "4          Don't know                        No                      No   \n",
              "\n",
              "      coworkers supervisor mental_health_interview phys_health_interview  \\\n",
              "0  Some of them        Yes                      No                 Maybe   \n",
              "1            No         No                      No                    No   \n",
              "2           Yes        Yes                     Yes                   Yes   \n",
              "3  Some of them         No                   Maybe                 Maybe   \n",
              "4  Some of them        Yes                     Yes                   Yes   \n",
              "\n",
              "  mental_vs_physical obs_consequence comments  \n",
              "0                Yes              No      NaN  \n",
              "1         Don't know              No      NaN  \n",
              "2                 No              No      NaN  \n",
              "3                 No             Yes      NaN  \n",
              "4         Don't know              No      NaN  \n",
              "\n",
              "[5 rows x 27 columns]"
            ],
            "text/html": [
              "\n",
              "  <div id=\"df-b58300ce-43df-4e63-bc89-190acf3080e0\">\n",
              "    <div class=\"colab-df-container\">\n",
              "      <div>\n",
              "<style scoped>\n",
              "    .dataframe tbody tr th:only-of-type {\n",
              "        vertical-align: middle;\n",
              "    }\n",
              "\n",
              "    .dataframe tbody tr th {\n",
              "        vertical-align: top;\n",
              "    }\n",
              "\n",
              "    .dataframe thead th {\n",
              "        text-align: right;\n",
              "    }\n",
              "</style>\n",
              "<table border=\"1\" class=\"dataframe\">\n",
              "  <thead>\n",
              "    <tr style=\"text-align: right;\">\n",
              "      <th></th>\n",
              "      <th>Timestamp</th>\n",
              "      <th>Age</th>\n",
              "      <th>Gender</th>\n",
              "      <th>Country</th>\n",
              "      <th>state</th>\n",
              "      <th>self_employed</th>\n",
              "      <th>family_history</th>\n",
              "      <th>treatment</th>\n",
              "      <th>work_interfere</th>\n",
              "      <th>no_employees</th>\n",
              "      <th>...</th>\n",
              "      <th>leave</th>\n",
              "      <th>mental_health_consequence</th>\n",
              "      <th>phys_health_consequence</th>\n",
              "      <th>coworkers</th>\n",
              "      <th>supervisor</th>\n",
              "      <th>mental_health_interview</th>\n",
              "      <th>phys_health_interview</th>\n",
              "      <th>mental_vs_physical</th>\n",
              "      <th>obs_consequence</th>\n",
              "      <th>comments</th>\n",
              "    </tr>\n",
              "  </thead>\n",
              "  <tbody>\n",
              "    <tr>\n",
              "      <th>0</th>\n",
              "      <td>2014-08-27 11:29:31</td>\n",
              "      <td>37</td>\n",
              "      <td>Female</td>\n",
              "      <td>United States</td>\n",
              "      <td>IL</td>\n",
              "      <td>NaN</td>\n",
              "      <td>No</td>\n",
              "      <td>Yes</td>\n",
              "      <td>Often</td>\n",
              "      <td>6-25</td>\n",
              "      <td>...</td>\n",
              "      <td>Somewhat easy</td>\n",
              "      <td>No</td>\n",
              "      <td>No</td>\n",
              "      <td>Some of them</td>\n",
              "      <td>Yes</td>\n",
              "      <td>No</td>\n",
              "      <td>Maybe</td>\n",
              "      <td>Yes</td>\n",
              "      <td>No</td>\n",
              "      <td>NaN</td>\n",
              "    </tr>\n",
              "    <tr>\n",
              "      <th>1</th>\n",
              "      <td>2014-08-27 11:29:37</td>\n",
              "      <td>44</td>\n",
              "      <td>M</td>\n",
              "      <td>United States</td>\n",
              "      <td>IN</td>\n",
              "      <td>NaN</td>\n",
              "      <td>No</td>\n",
              "      <td>No</td>\n",
              "      <td>Rarely</td>\n",
              "      <td>More than 1000</td>\n",
              "      <td>...</td>\n",
              "      <td>Don't know</td>\n",
              "      <td>Maybe</td>\n",
              "      <td>No</td>\n",
              "      <td>No</td>\n",
              "      <td>No</td>\n",
              "      <td>No</td>\n",
              "      <td>No</td>\n",
              "      <td>Don't know</td>\n",
              "      <td>No</td>\n",
              "      <td>NaN</td>\n",
              "    </tr>\n",
              "    <tr>\n",
              "      <th>2</th>\n",
              "      <td>2014-08-27 11:29:44</td>\n",
              "      <td>32</td>\n",
              "      <td>Male</td>\n",
              "      <td>Canada</td>\n",
              "      <td>NaN</td>\n",
              "      <td>NaN</td>\n",
              "      <td>No</td>\n",
              "      <td>No</td>\n",
              "      <td>Rarely</td>\n",
              "      <td>6-25</td>\n",
              "      <td>...</td>\n",
              "      <td>Somewhat difficult</td>\n",
              "      <td>No</td>\n",
              "      <td>No</td>\n",
              "      <td>Yes</td>\n",
              "      <td>Yes</td>\n",
              "      <td>Yes</td>\n",
              "      <td>Yes</td>\n",
              "      <td>No</td>\n",
              "      <td>No</td>\n",
              "      <td>NaN</td>\n",
              "    </tr>\n",
              "    <tr>\n",
              "      <th>3</th>\n",
              "      <td>2014-08-27 11:29:46</td>\n",
              "      <td>31</td>\n",
              "      <td>Male</td>\n",
              "      <td>United Kingdom</td>\n",
              "      <td>NaN</td>\n",
              "      <td>NaN</td>\n",
              "      <td>Yes</td>\n",
              "      <td>Yes</td>\n",
              "      <td>Often</td>\n",
              "      <td>26-100</td>\n",
              "      <td>...</td>\n",
              "      <td>Somewhat difficult</td>\n",
              "      <td>Yes</td>\n",
              "      <td>Yes</td>\n",
              "      <td>Some of them</td>\n",
              "      <td>No</td>\n",
              "      <td>Maybe</td>\n",
              "      <td>Maybe</td>\n",
              "      <td>No</td>\n",
              "      <td>Yes</td>\n",
              "      <td>NaN</td>\n",
              "    </tr>\n",
              "    <tr>\n",
              "      <th>4</th>\n",
              "      <td>2014-08-27 11:30:22</td>\n",
              "      <td>31</td>\n",
              "      <td>Male</td>\n",
              "      <td>United States</td>\n",
              "      <td>TX</td>\n",
              "      <td>NaN</td>\n",
              "      <td>No</td>\n",
              "      <td>No</td>\n",
              "      <td>Never</td>\n",
              "      <td>100-500</td>\n",
              "      <td>...</td>\n",
              "      <td>Don't know</td>\n",
              "      <td>No</td>\n",
              "      <td>No</td>\n",
              "      <td>Some of them</td>\n",
              "      <td>Yes</td>\n",
              "      <td>Yes</td>\n",
              "      <td>Yes</td>\n",
              "      <td>Don't know</td>\n",
              "      <td>No</td>\n",
              "      <td>NaN</td>\n",
              "    </tr>\n",
              "  </tbody>\n",
              "</table>\n",
              "<p>5 rows × 27 columns</p>\n",
              "</div>\n",
              "      <button class=\"colab-df-convert\" onclick=\"convertToInteractive('df-b58300ce-43df-4e63-bc89-190acf3080e0')\"\n",
              "              title=\"Convert this dataframe to an interactive table.\"\n",
              "              style=\"display:none;\">\n",
              "        \n",
              "  <svg xmlns=\"http://www.w3.org/2000/svg\" height=\"24px\"viewBox=\"0 0 24 24\"\n",
              "       width=\"24px\">\n",
              "    <path d=\"M0 0h24v24H0V0z\" fill=\"none\"/>\n",
              "    <path d=\"M18.56 5.44l.94 2.06.94-2.06 2.06-.94-2.06-.94-.94-2.06-.94 2.06-2.06.94zm-11 1L8.5 8.5l.94-2.06 2.06-.94-2.06-.94L8.5 2.5l-.94 2.06-2.06.94zm10 10l.94 2.06.94-2.06 2.06-.94-2.06-.94-.94-2.06-.94 2.06-2.06.94z\"/><path d=\"M17.41 7.96l-1.37-1.37c-.4-.4-.92-.59-1.43-.59-.52 0-1.04.2-1.43.59L10.3 9.45l-7.72 7.72c-.78.78-.78 2.05 0 2.83L4 21.41c.39.39.9.59 1.41.59.51 0 1.02-.2 1.41-.59l7.78-7.78 2.81-2.81c.8-.78.8-2.07 0-2.86zM5.41 20L4 18.59l7.72-7.72 1.47 1.35L5.41 20z\"/>\n",
              "  </svg>\n",
              "      </button>\n",
              "      \n",
              "  <style>\n",
              "    .colab-df-container {\n",
              "      display:flex;\n",
              "      flex-wrap:wrap;\n",
              "      gap: 12px;\n",
              "    }\n",
              "\n",
              "    .colab-df-convert {\n",
              "      background-color: #E8F0FE;\n",
              "      border: none;\n",
              "      border-radius: 50%;\n",
              "      cursor: pointer;\n",
              "      display: none;\n",
              "      fill: #1967D2;\n",
              "      height: 32px;\n",
              "      padding: 0 0 0 0;\n",
              "      width: 32px;\n",
              "    }\n",
              "\n",
              "    .colab-df-convert:hover {\n",
              "      background-color: #E2EBFA;\n",
              "      box-shadow: 0px 1px 2px rgba(60, 64, 67, 0.3), 0px 1px 3px 1px rgba(60, 64, 67, 0.15);\n",
              "      fill: #174EA6;\n",
              "    }\n",
              "\n",
              "    [theme=dark] .colab-df-convert {\n",
              "      background-color: #3B4455;\n",
              "      fill: #D2E3FC;\n",
              "    }\n",
              "\n",
              "    [theme=dark] .colab-df-convert:hover {\n",
              "      background-color: #434B5C;\n",
              "      box-shadow: 0px 1px 3px 1px rgba(0, 0, 0, 0.15);\n",
              "      filter: drop-shadow(0px 1px 2px rgba(0, 0, 0, 0.3));\n",
              "      fill: #FFFFFF;\n",
              "    }\n",
              "  </style>\n",
              "\n",
              "      <script>\n",
              "        const buttonEl =\n",
              "          document.querySelector('#df-b58300ce-43df-4e63-bc89-190acf3080e0 button.colab-df-convert');\n",
              "        buttonEl.style.display =\n",
              "          google.colab.kernel.accessAllowed ? 'block' : 'none';\n",
              "\n",
              "        async function convertToInteractive(key) {\n",
              "          const element = document.querySelector('#df-b58300ce-43df-4e63-bc89-190acf3080e0');\n",
              "          const dataTable =\n",
              "            await google.colab.kernel.invokeFunction('convertToInteractive',\n",
              "                                                     [key], {});\n",
              "          if (!dataTable) return;\n",
              "\n",
              "          const docLinkHtml = 'Like what you see? Visit the ' +\n",
              "            '<a target=\"_blank\" href=https://colab.research.google.com/notebooks/data_table.ipynb>data table notebook</a>'\n",
              "            + ' to learn more about interactive tables.';\n",
              "          element.innerHTML = '';\n",
              "          dataTable['output_type'] = 'display_data';\n",
              "          await google.colab.output.renderOutput(dataTable, element);\n",
              "          const docLink = document.createElement('div');\n",
              "          docLink.innerHTML = docLinkHtml;\n",
              "          element.appendChild(docLink);\n",
              "        }\n",
              "      </script>\n",
              "    </div>\n",
              "  </div>\n",
              "  "
            ]
          },
          "metadata": {},
          "execution_count": 51
        }
      ]
    },
    {
      "cell_type": "code",
      "source": [
        "data.dropna()\n"
      ],
      "metadata": {
        "id": "Q88-dHOaFrOv",
        "colab": {
          "base_uri": "https://localhost:8080/",
          "height": 1000
        },
        "outputId": "53c73265-7727-480c-8a37-ed5507bac1e9"
      },
      "execution_count": null,
      "outputs": [
        {
          "output_type": "execute_result",
          "data": {
            "text/plain": [
              "                Timestamp  Age  Gender        Country state self_employed  \\\n",
              "24    2014-08-27 11:36:48   33    male  United States    CA            No   \n",
              "25    2014-08-27 11:37:08   35    male  United States    TN            No   \n",
              "33    2014-08-27 11:39:36   42    Male  United States    WA            No   \n",
              "45    2014-08-27 11:43:36   38  Female  United States    TX            No   \n",
              "49    2014-08-27 11:44:43   30    male  United States    IL            No   \n",
              "...                   ...  ...     ...            ...   ...           ...   \n",
              "1186  2014-11-06 11:24:38   56  female  United States    OR           Yes   \n",
              "1190  2015-01-03 03:38:30   44       M  United States    OH            No   \n",
              "1219  2015-02-21 09:48:13   38    Male  United States    TX            No   \n",
              "1221  2015-02-21 10:45:51   46    male  United States    MD            No   \n",
              "1249  2015-07-22 18:57:54   30       M  United States    CA            No   \n",
              "\n",
              "     family_history treatment work_interfere    no_employees  ...  \\\n",
              "24              Yes       Yes         Rarely          26-100  ...   \n",
              "25              Yes       Yes      Sometimes  More than 1000  ...   \n",
              "33              Yes       Yes      Sometimes          26-100  ...   \n",
              "45              Yes       Yes      Sometimes          26-100  ...   \n",
              "49              Yes       Yes         Rarely          26-100  ...   \n",
              "...             ...       ...            ...             ...  ...   \n",
              "1186             No        No         Rarely             1-5  ...   \n",
              "1190            Yes       Yes      Sometimes         100-500  ...   \n",
              "1219             No       Yes      Sometimes  More than 1000  ...   \n",
              "1221            Yes       Yes      Sometimes         100-500  ...   \n",
              "1249            Yes       Yes      Sometimes          26-100  ...   \n",
              "\n",
              "              leave mental_health_consequence phys_health_consequence  \\\n",
              "24       Don't know                        No                      No   \n",
              "25        Very easy                       Yes                      No   \n",
              "33        Very easy                     Maybe                      No   \n",
              "45    Somewhat easy                        No                      No   \n",
              "49       Don't know                     Maybe                      No   \n",
              "...             ...                       ...                     ...   \n",
              "1186     Don't know                     Maybe                   Maybe   \n",
              "1190     Don't know                     Maybe                      No   \n",
              "1219      Very easy                        No                      No   \n",
              "1221     Don't know                        No                      No   \n",
              "1249      Very easy                        No                      No   \n",
              "\n",
              "         coworkers    supervisor mental_health_interview  \\\n",
              "24             Yes           Yes                      No   \n",
              "25    Some of them           Yes                      No   \n",
              "33    Some of them  Some of them                   Maybe   \n",
              "45    Some of them           Yes                      No   \n",
              "49    Some of them           Yes                      No   \n",
              "...            ...           ...                     ...   \n",
              "1186            No            No                      No   \n",
              "1190  Some of them  Some of them                      No   \n",
              "1219           Yes           Yes                      No   \n",
              "1221  Some of them           Yes                     Yes   \n",
              "1249           Yes           Yes                   Maybe   \n",
              "\n",
              "     phys_health_interview mental_vs_physical obs_consequence  \\\n",
              "24                     Yes         Don't know              No   \n",
              "25                     Yes                 No              No   \n",
              "33                     Yes         Don't know              No   \n",
              "45                      No                Yes              No   \n",
              "49                      No         Don't know              No   \n",
              "...                    ...                ...             ...   \n",
              "1186                    No         Don't know              No   \n",
              "1190                    No         Don't know              No   \n",
              "1219                    No         Don't know              No   \n",
              "1221                   Yes         Don't know              No   \n",
              "1249                 Maybe                Yes              No   \n",
              "\n",
              "                                               comments  \n",
              "24                  Relatively new job. Ask again later  \n",
              "25    Sometimes I think  about using drugs for my me...  \n",
              "33    I selected my current employer based on its po...  \n",
              "45    Our health plan has covered my psychotherapy a...  \n",
              "49    I just started a new job last week hence a lot...  \n",
              "...                                                 ...  \n",
              "1186  I'm self-employed on contract with small start...  \n",
              "1190  My mental health issues were the direct result...  \n",
              "1219  I openly discuss my mental health struggles. I...  \n",
              "1221  Just starting a new job hence the numerous I d...  \n",
              "1249                                  Bipolar disorder   \n",
              "\n",
              "[86 rows x 27 columns]"
            ],
            "text/html": [
              "\n",
              "  <div id=\"df-024c7ce9-18cf-4076-ba91-10627466af83\">\n",
              "    <div class=\"colab-df-container\">\n",
              "      <div>\n",
              "<style scoped>\n",
              "    .dataframe tbody tr th:only-of-type {\n",
              "        vertical-align: middle;\n",
              "    }\n",
              "\n",
              "    .dataframe tbody tr th {\n",
              "        vertical-align: top;\n",
              "    }\n",
              "\n",
              "    .dataframe thead th {\n",
              "        text-align: right;\n",
              "    }\n",
              "</style>\n",
              "<table border=\"1\" class=\"dataframe\">\n",
              "  <thead>\n",
              "    <tr style=\"text-align: right;\">\n",
              "      <th></th>\n",
              "      <th>Timestamp</th>\n",
              "      <th>Age</th>\n",
              "      <th>Gender</th>\n",
              "      <th>Country</th>\n",
              "      <th>state</th>\n",
              "      <th>self_employed</th>\n",
              "      <th>family_history</th>\n",
              "      <th>treatment</th>\n",
              "      <th>work_interfere</th>\n",
              "      <th>no_employees</th>\n",
              "      <th>...</th>\n",
              "      <th>leave</th>\n",
              "      <th>mental_health_consequence</th>\n",
              "      <th>phys_health_consequence</th>\n",
              "      <th>coworkers</th>\n",
              "      <th>supervisor</th>\n",
              "      <th>mental_health_interview</th>\n",
              "      <th>phys_health_interview</th>\n",
              "      <th>mental_vs_physical</th>\n",
              "      <th>obs_consequence</th>\n",
              "      <th>comments</th>\n",
              "    </tr>\n",
              "  </thead>\n",
              "  <tbody>\n",
              "    <tr>\n",
              "      <th>24</th>\n",
              "      <td>2014-08-27 11:36:48</td>\n",
              "      <td>33</td>\n",
              "      <td>male</td>\n",
              "      <td>United States</td>\n",
              "      <td>CA</td>\n",
              "      <td>No</td>\n",
              "      <td>Yes</td>\n",
              "      <td>Yes</td>\n",
              "      <td>Rarely</td>\n",
              "      <td>26-100</td>\n",
              "      <td>...</td>\n",
              "      <td>Don't know</td>\n",
              "      <td>No</td>\n",
              "      <td>No</td>\n",
              "      <td>Yes</td>\n",
              "      <td>Yes</td>\n",
              "      <td>No</td>\n",
              "      <td>Yes</td>\n",
              "      <td>Don't know</td>\n",
              "      <td>No</td>\n",
              "      <td>Relatively new job. Ask again later</td>\n",
              "    </tr>\n",
              "    <tr>\n",
              "      <th>25</th>\n",
              "      <td>2014-08-27 11:37:08</td>\n",
              "      <td>35</td>\n",
              "      <td>male</td>\n",
              "      <td>United States</td>\n",
              "      <td>TN</td>\n",
              "      <td>No</td>\n",
              "      <td>Yes</td>\n",
              "      <td>Yes</td>\n",
              "      <td>Sometimes</td>\n",
              "      <td>More than 1000</td>\n",
              "      <td>...</td>\n",
              "      <td>Very easy</td>\n",
              "      <td>Yes</td>\n",
              "      <td>No</td>\n",
              "      <td>Some of them</td>\n",
              "      <td>Yes</td>\n",
              "      <td>No</td>\n",
              "      <td>Yes</td>\n",
              "      <td>No</td>\n",
              "      <td>No</td>\n",
              "      <td>Sometimes I think  about using drugs for my me...</td>\n",
              "    </tr>\n",
              "    <tr>\n",
              "      <th>33</th>\n",
              "      <td>2014-08-27 11:39:36</td>\n",
              "      <td>42</td>\n",
              "      <td>Male</td>\n",
              "      <td>United States</td>\n",
              "      <td>WA</td>\n",
              "      <td>No</td>\n",
              "      <td>Yes</td>\n",
              "      <td>Yes</td>\n",
              "      <td>Sometimes</td>\n",
              "      <td>26-100</td>\n",
              "      <td>...</td>\n",
              "      <td>Very easy</td>\n",
              "      <td>Maybe</td>\n",
              "      <td>No</td>\n",
              "      <td>Some of them</td>\n",
              "      <td>Some of them</td>\n",
              "      <td>Maybe</td>\n",
              "      <td>Yes</td>\n",
              "      <td>Don't know</td>\n",
              "      <td>No</td>\n",
              "      <td>I selected my current employer based on its po...</td>\n",
              "    </tr>\n",
              "    <tr>\n",
              "      <th>45</th>\n",
              "      <td>2014-08-27 11:43:36</td>\n",
              "      <td>38</td>\n",
              "      <td>Female</td>\n",
              "      <td>United States</td>\n",
              "      <td>TX</td>\n",
              "      <td>No</td>\n",
              "      <td>Yes</td>\n",
              "      <td>Yes</td>\n",
              "      <td>Sometimes</td>\n",
              "      <td>26-100</td>\n",
              "      <td>...</td>\n",
              "      <td>Somewhat easy</td>\n",
              "      <td>No</td>\n",
              "      <td>No</td>\n",
              "      <td>Some of them</td>\n",
              "      <td>Yes</td>\n",
              "      <td>No</td>\n",
              "      <td>No</td>\n",
              "      <td>Yes</td>\n",
              "      <td>No</td>\n",
              "      <td>Our health plan has covered my psychotherapy a...</td>\n",
              "    </tr>\n",
              "    <tr>\n",
              "      <th>49</th>\n",
              "      <td>2014-08-27 11:44:43</td>\n",
              "      <td>30</td>\n",
              "      <td>male</td>\n",
              "      <td>United States</td>\n",
              "      <td>IL</td>\n",
              "      <td>No</td>\n",
              "      <td>Yes</td>\n",
              "      <td>Yes</td>\n",
              "      <td>Rarely</td>\n",
              "      <td>26-100</td>\n",
              "      <td>...</td>\n",
              "      <td>Don't know</td>\n",
              "      <td>Maybe</td>\n",
              "      <td>No</td>\n",
              "      <td>Some of them</td>\n",
              "      <td>Yes</td>\n",
              "      <td>No</td>\n",
              "      <td>No</td>\n",
              "      <td>Don't know</td>\n",
              "      <td>No</td>\n",
              "      <td>I just started a new job last week hence a lot...</td>\n",
              "    </tr>\n",
              "    <tr>\n",
              "      <th>...</th>\n",
              "      <td>...</td>\n",
              "      <td>...</td>\n",
              "      <td>...</td>\n",
              "      <td>...</td>\n",
              "      <td>...</td>\n",
              "      <td>...</td>\n",
              "      <td>...</td>\n",
              "      <td>...</td>\n",
              "      <td>...</td>\n",
              "      <td>...</td>\n",
              "      <td>...</td>\n",
              "      <td>...</td>\n",
              "      <td>...</td>\n",
              "      <td>...</td>\n",
              "      <td>...</td>\n",
              "      <td>...</td>\n",
              "      <td>...</td>\n",
              "      <td>...</td>\n",
              "      <td>...</td>\n",
              "      <td>...</td>\n",
              "      <td>...</td>\n",
              "    </tr>\n",
              "    <tr>\n",
              "      <th>1186</th>\n",
              "      <td>2014-11-06 11:24:38</td>\n",
              "      <td>56</td>\n",
              "      <td>female</td>\n",
              "      <td>United States</td>\n",
              "      <td>OR</td>\n",
              "      <td>Yes</td>\n",
              "      <td>No</td>\n",
              "      <td>No</td>\n",
              "      <td>Rarely</td>\n",
              "      <td>1-5</td>\n",
              "      <td>...</td>\n",
              "      <td>Don't know</td>\n",
              "      <td>Maybe</td>\n",
              "      <td>Maybe</td>\n",
              "      <td>No</td>\n",
              "      <td>No</td>\n",
              "      <td>No</td>\n",
              "      <td>No</td>\n",
              "      <td>Don't know</td>\n",
              "      <td>No</td>\n",
              "      <td>I'm self-employed on contract with small start...</td>\n",
              "    </tr>\n",
              "    <tr>\n",
              "      <th>1190</th>\n",
              "      <td>2015-01-03 03:38:30</td>\n",
              "      <td>44</td>\n",
              "      <td>M</td>\n",
              "      <td>United States</td>\n",
              "      <td>OH</td>\n",
              "      <td>No</td>\n",
              "      <td>Yes</td>\n",
              "      <td>Yes</td>\n",
              "      <td>Sometimes</td>\n",
              "      <td>100-500</td>\n",
              "      <td>...</td>\n",
              "      <td>Don't know</td>\n",
              "      <td>Maybe</td>\n",
              "      <td>No</td>\n",
              "      <td>Some of them</td>\n",
              "      <td>Some of them</td>\n",
              "      <td>No</td>\n",
              "      <td>No</td>\n",
              "      <td>Don't know</td>\n",
              "      <td>No</td>\n",
              "      <td>My mental health issues were the direct result...</td>\n",
              "    </tr>\n",
              "    <tr>\n",
              "      <th>1219</th>\n",
              "      <td>2015-02-21 09:48:13</td>\n",
              "      <td>38</td>\n",
              "      <td>Male</td>\n",
              "      <td>United States</td>\n",
              "      <td>TX</td>\n",
              "      <td>No</td>\n",
              "      <td>No</td>\n",
              "      <td>Yes</td>\n",
              "      <td>Sometimes</td>\n",
              "      <td>More than 1000</td>\n",
              "      <td>...</td>\n",
              "      <td>Very easy</td>\n",
              "      <td>No</td>\n",
              "      <td>No</td>\n",
              "      <td>Yes</td>\n",
              "      <td>Yes</td>\n",
              "      <td>No</td>\n",
              "      <td>No</td>\n",
              "      <td>Don't know</td>\n",
              "      <td>No</td>\n",
              "      <td>I openly discuss my mental health struggles. I...</td>\n",
              "    </tr>\n",
              "    <tr>\n",
              "      <th>1221</th>\n",
              "      <td>2015-02-21 10:45:51</td>\n",
              "      <td>46</td>\n",
              "      <td>male</td>\n",
              "      <td>United States</td>\n",
              "      <td>MD</td>\n",
              "      <td>No</td>\n",
              "      <td>Yes</td>\n",
              "      <td>Yes</td>\n",
              "      <td>Sometimes</td>\n",
              "      <td>100-500</td>\n",
              "      <td>...</td>\n",
              "      <td>Don't know</td>\n",
              "      <td>No</td>\n",
              "      <td>No</td>\n",
              "      <td>Some of them</td>\n",
              "      <td>Yes</td>\n",
              "      <td>Yes</td>\n",
              "      <td>Yes</td>\n",
              "      <td>Don't know</td>\n",
              "      <td>No</td>\n",
              "      <td>Just starting a new job hence the numerous I d...</td>\n",
              "    </tr>\n",
              "    <tr>\n",
              "      <th>1249</th>\n",
              "      <td>2015-07-22 18:57:54</td>\n",
              "      <td>30</td>\n",
              "      <td>M</td>\n",
              "      <td>United States</td>\n",
              "      <td>CA</td>\n",
              "      <td>No</td>\n",
              "      <td>Yes</td>\n",
              "      <td>Yes</td>\n",
              "      <td>Sometimes</td>\n",
              "      <td>26-100</td>\n",
              "      <td>...</td>\n",
              "      <td>Very easy</td>\n",
              "      <td>No</td>\n",
              "      <td>No</td>\n",
              "      <td>Yes</td>\n",
              "      <td>Yes</td>\n",
              "      <td>Maybe</td>\n",
              "      <td>Maybe</td>\n",
              "      <td>Yes</td>\n",
              "      <td>No</td>\n",
              "      <td>Bipolar disorder</td>\n",
              "    </tr>\n",
              "  </tbody>\n",
              "</table>\n",
              "<p>86 rows × 27 columns</p>\n",
              "</div>\n",
              "      <button class=\"colab-df-convert\" onclick=\"convertToInteractive('df-024c7ce9-18cf-4076-ba91-10627466af83')\"\n",
              "              title=\"Convert this dataframe to an interactive table.\"\n",
              "              style=\"display:none;\">\n",
              "        \n",
              "  <svg xmlns=\"http://www.w3.org/2000/svg\" height=\"24px\"viewBox=\"0 0 24 24\"\n",
              "       width=\"24px\">\n",
              "    <path d=\"M0 0h24v24H0V0z\" fill=\"none\"/>\n",
              "    <path d=\"M18.56 5.44l.94 2.06.94-2.06 2.06-.94-2.06-.94-.94-2.06-.94 2.06-2.06.94zm-11 1L8.5 8.5l.94-2.06 2.06-.94-2.06-.94L8.5 2.5l-.94 2.06-2.06.94zm10 10l.94 2.06.94-2.06 2.06-.94-2.06-.94-.94-2.06-.94 2.06-2.06.94z\"/><path d=\"M17.41 7.96l-1.37-1.37c-.4-.4-.92-.59-1.43-.59-.52 0-1.04.2-1.43.59L10.3 9.45l-7.72 7.72c-.78.78-.78 2.05 0 2.83L4 21.41c.39.39.9.59 1.41.59.51 0 1.02-.2 1.41-.59l7.78-7.78 2.81-2.81c.8-.78.8-2.07 0-2.86zM5.41 20L4 18.59l7.72-7.72 1.47 1.35L5.41 20z\"/>\n",
              "  </svg>\n",
              "      </button>\n",
              "      \n",
              "  <style>\n",
              "    .colab-df-container {\n",
              "      display:flex;\n",
              "      flex-wrap:wrap;\n",
              "      gap: 12px;\n",
              "    }\n",
              "\n",
              "    .colab-df-convert {\n",
              "      background-color: #E8F0FE;\n",
              "      border: none;\n",
              "      border-radius: 50%;\n",
              "      cursor: pointer;\n",
              "      display: none;\n",
              "      fill: #1967D2;\n",
              "      height: 32px;\n",
              "      padding: 0 0 0 0;\n",
              "      width: 32px;\n",
              "    }\n",
              "\n",
              "    .colab-df-convert:hover {\n",
              "      background-color: #E2EBFA;\n",
              "      box-shadow: 0px 1px 2px rgba(60, 64, 67, 0.3), 0px 1px 3px 1px rgba(60, 64, 67, 0.15);\n",
              "      fill: #174EA6;\n",
              "    }\n",
              "\n",
              "    [theme=dark] .colab-df-convert {\n",
              "      background-color: #3B4455;\n",
              "      fill: #D2E3FC;\n",
              "    }\n",
              "\n",
              "    [theme=dark] .colab-df-convert:hover {\n",
              "      background-color: #434B5C;\n",
              "      box-shadow: 0px 1px 3px 1px rgba(0, 0, 0, 0.15);\n",
              "      filter: drop-shadow(0px 1px 2px rgba(0, 0, 0, 0.3));\n",
              "      fill: #FFFFFF;\n",
              "    }\n",
              "  </style>\n",
              "\n",
              "      <script>\n",
              "        const buttonEl =\n",
              "          document.querySelector('#df-024c7ce9-18cf-4076-ba91-10627466af83 button.colab-df-convert');\n",
              "        buttonEl.style.display =\n",
              "          google.colab.kernel.accessAllowed ? 'block' : 'none';\n",
              "\n",
              "        async function convertToInteractive(key) {\n",
              "          const element = document.querySelector('#df-024c7ce9-18cf-4076-ba91-10627466af83');\n",
              "          const dataTable =\n",
              "            await google.colab.kernel.invokeFunction('convertToInteractive',\n",
              "                                                     [key], {});\n",
              "          if (!dataTable) return;\n",
              "\n",
              "          const docLinkHtml = 'Like what you see? Visit the ' +\n",
              "            '<a target=\"_blank\" href=https://colab.research.google.com/notebooks/data_table.ipynb>data table notebook</a>'\n",
              "            + ' to learn more about interactive tables.';\n",
              "          element.innerHTML = '';\n",
              "          dataTable['output_type'] = 'display_data';\n",
              "          await google.colab.output.renderOutput(dataTable, element);\n",
              "          const docLink = document.createElement('div');\n",
              "          docLink.innerHTML = docLinkHtml;\n",
              "          element.appendChild(docLink);\n",
              "        }\n",
              "      </script>\n",
              "    </div>\n",
              "  </div>\n",
              "  "
            ]
          },
          "metadata": {},
          "execution_count": 52
        }
      ]
    },
    {
      "cell_type": "code",
      "source": [
        "data.drop(['Country','state','Timestamp','comments'],axis=1,inplace=True)"
      ],
      "metadata": {
        "id": "Zw_D73jLFvD8"
      },
      "execution_count": null,
      "outputs": []
    },
    {
      "cell_type": "code",
      "source": [
        "data.isnull().sum()"
      ],
      "metadata": {
        "id": "93UUZDGMG2KJ",
        "colab": {
          "base_uri": "https://localhost:8080/"
        },
        "outputId": "8ca7a9a8-fb12-43e7-e8f8-08cf457f3550"
      },
      "execution_count": null,
      "outputs": [
        {
          "output_type": "execute_result",
          "data": {
            "text/plain": [
              "Age                            0\n",
              "Gender                         0\n",
              "self_employed                 18\n",
              "family_history                 0\n",
              "treatment                      0\n",
              "work_interfere               264\n",
              "no_employees                   0\n",
              "remote_work                    0\n",
              "tech_company                   0\n",
              "benefits                       0\n",
              "care_options                   0\n",
              "wellness_program               0\n",
              "seek_help                      0\n",
              "anonymity                      0\n",
              "leave                          0\n",
              "mental_health_consequence      0\n",
              "phys_health_consequence        0\n",
              "coworkers                      0\n",
              "supervisor                     0\n",
              "mental_health_interview        0\n",
              "phys_health_interview          0\n",
              "mental_vs_physical             0\n",
              "obs_consequence                0\n",
              "dtype: int64"
            ]
          },
          "metadata": {},
          "execution_count": 54
        }
      ]
    },
    {
      "cell_type": "code",
      "source": [
        "data['self_employed'].value_counts()"
      ],
      "metadata": {
        "id": "bsdWtKaRhlFj",
        "colab": {
          "base_uri": "https://localhost:8080/"
        },
        "outputId": "b8e59005-f1fb-4ade-8969-8c0e6c6ce214"
      },
      "execution_count": null,
      "outputs": [
        {
          "output_type": "execute_result",
          "data": {
            "text/plain": [
              "No     1095\n",
              "Yes     146\n",
              "Name: self_employed, dtype: int64"
            ]
          },
          "metadata": {},
          "execution_count": 55
        }
      ]
    },
    {
      "cell_type": "code",
      "source": [
        "data['self_employed'].fillna('No',inplace=True)"
      ],
      "metadata": {
        "id": "sFn5MbyAG-cs"
      },
      "execution_count": null,
      "outputs": []
    },
    {
      "cell_type": "code",
      "source": [
        "data['work_interfere'].value_counts()"
      ],
      "metadata": {
        "id": "_6E5BdYgeFvS",
        "colab": {
          "base_uri": "https://localhost:8080/"
        },
        "outputId": "87890a86-b106-4a90-8752-94d469ea70a2"
      },
      "execution_count": null,
      "outputs": [
        {
          "output_type": "execute_result",
          "data": {
            "text/plain": [
              "Sometimes    465\n",
              "Never        213\n",
              "Rarely       173\n",
              "Often        144\n",
              "Name: work_interfere, dtype: int64"
            ]
          },
          "metadata": {},
          "execution_count": 57
        }
      ]
    },
    {
      "cell_type": "code",
      "source": [
        "data['Age'].value_counts().plot(kind='bar',figsize=(10,8))"
      ],
      "metadata": {
        "id": "HB0NZy5-hyBE",
        "colab": {
          "base_uri": "https://localhost:8080/",
          "height": 560
        },
        "outputId": "1b9c4c9a-d103-4c31-816b-3d6279c3d728"
      },
      "execution_count": null,
      "outputs": [
        {
          "output_type": "execute_result",
          "data": {
            "text/plain": [
              "<AxesSubplot:>"
            ]
          },
          "metadata": {},
          "execution_count": 58
        },
        {
          "output_type": "display_data",
          "data": {
            "text/plain": [
              "<Figure size 720x576 with 1 Axes>"
            ],
            "image/png": "[encoded data removed]"
          },
          "metadata": {
            "needs_background": "light"
          }
        }
      ]
    },
    {
      "cell_type": "code",
      "source": [
        "data['work_interfere'].fillna('N/A',inplace=True)"
      ],
      "metadata": {
        "id": "StikOE2nHegN"
      },
      "execution_count": null,
      "outputs": []
    },
    {
      "cell_type": "code",
      "source": [
        "data.info()"
      ],
      "metadata": {
        "id": "-iWuYu8ppsQU",
        "colab": {
          "base_uri": "https://localhost:8080/"
        },
        "outputId": "f6e2f2f9-d23f-492c-ac44-2f030be2fc69"
      },
      "execution_count": null,
      "outputs": [
        {
          "output_type": "stream",
          "name": "stdout",
          "text": [
            "<class 'pandas.core.frame.DataFrame'>\n",
            "RangeIndex: 1259 entries, 0 to 1258\n",
            "Data columns (total 23 columns):\n",
            " #   Column                     Non-Null Count  Dtype \n",
            "---  ------                     --------------  ----- \n",
            " 0   Age                        1259 non-null   int64 \n",
            " 1   Gender                     1259 non-null   object\n",
            " 2   self_employed              1259 non-null   object\n",
            " 3   family_history             1259 non-null   object\n",
            " 4   treatment                  1259 non-null   object\n",
            " 5   work_interfere             1259 non-null   object\n",
            " 6   no_employees               1259 non-null   object\n",
            " 7   remote_work                1259 non-null   object\n",
            " 8   tech_company               1259 non-null   object\n",
            " 9   benefits                   1259 non-null   object\n",
            " 10  care_options               1259 non-null   object\n",
            " 11  wellness_program           1259 non-null   object\n",
            " 12  seek_help                  1259 non-null   object\n",
            " 13  anonymity                  1259 non-null   object\n",
            " 14  leave                      1259 non-null   object\n",
            " 15  mental_health_consequence  1259 non-null   object\n",
            " 16  phys_health_consequence    1259 non-null   object\n",
            " 17  coworkers                  1259 non-null   object\n",
            " 18  supervisor                 1259 non-null   object\n",
            " 19  mental_health_interview    1259 non-null   object\n",
            " 20  phys_health_interview      1259 non-null   object\n",
            " 21  mental_vs_physical         1259 non-null   object\n",
            " 22  obs_consequence            1259 non-null   object\n",
            "dtypes: int64(1), object(22)\n",
            "memory usage: 226.4+ KB\n"
          ]
        }
      ]
    },
    {
      "cell_type": "code",
      "source": [
        "data.drop(data[(data['Age']>60)| (data['Age']<18)].index,inplace=True)"
      ],
      "metadata": {
        "id": "2mvyTMuMHqvR"
      },
      "execution_count": null,
      "outputs": []
    },
    {
      "cell_type": "code",
      "source": [
        "data['Gender'].replace(['Male','male','M','m','Male','Cis Male',\n",
        "'Man','cis male','Mail','Male-ish','Male(CIS)','Cis Man','msle','Malr','Mal','maile','Make',],'Male',inplace=True)\n",
        "\n",
        "data['Gender'].replace(['Female','female','F','f','Woman','Female',\n",
        "'femail','cis Female','cis-female/fenne','Femake','Female(cis)','woman',],'Female',inplace=True)\n",
        "\n",
        "data['Gender'].replace(['Female (trans)','queer/she/they','non-binary','fluid','queer','Trans-female',\n",
        "'femail','cis Female','cis-female/fenne','Femake','Female(cis)','woman',],'Non-Bianry',inplace=True)\n",
        " "
      ],
      "metadata": {
        "id": "X-3_wtA1OTW2"
      },
      "execution_count": null,
      "outputs": []
    },
    {
      "cell_type": "code",
      "source": [
        "data.dropna()"
      ],
      "metadata": {
        "id": "uNZB7fPnlAii",
        "colab": {
          "base_uri": "https://localhost:8080/",
          "height": 661
        },
        "outputId": "bf78296c-9b2a-4ee6-c1df-e1d279d3282e"
      },
      "execution_count": null,
      "outputs": [
        {
          "output_type": "execute_result",
          "data": {
            "text/plain": [
              "      Age  Gender self_employed family_history treatment work_interfere  \\\n",
              "0      37  Female            No             No       Yes          Often   \n",
              "1      44    Male            No             No        No         Rarely   \n",
              "2      32    Male            No             No        No         Rarely   \n",
              "3      31    Male            No            Yes       Yes          Often   \n",
              "4      31    Male            No             No        No          Never   \n",
              "...   ...     ...           ...            ...       ...            ...   \n",
              "1254   26    Male            No             No       Yes            N/A   \n",
              "1255   32    Male            No            Yes       Yes          Often   \n",
              "1256   34    Male            No            Yes       Yes      Sometimes   \n",
              "1257   46  Female            No             No        No            N/A   \n",
              "1258   25    Male            No            Yes       Yes      Sometimes   \n",
              "\n",
              "        no_employees remote_work tech_company    benefits  ...   anonymity  \\\n",
              "0               6-25          No          Yes         Yes  ...         Yes   \n",
              "1     More than 1000          No           No  Don't know  ...  Don't know   \n",
              "2               6-25          No          Yes          No  ...  Don't know   \n",
              "3             26-100          No          Yes          No  ...          No   \n",
              "4            100-500         Yes          Yes         Yes  ...  Don't know   \n",
              "...              ...         ...          ...         ...  ...         ...   \n",
              "1254          26-100          No          Yes          No  ...  Don't know   \n",
              "1255          26-100         Yes          Yes         Yes  ...         Yes   \n",
              "1256  More than 1000          No          Yes         Yes  ...  Don't know   \n",
              "1257         100-500         Yes          Yes          No  ...  Don't know   \n",
              "1258          26-100          No           No         Yes  ...         Yes   \n",
              "\n",
              "                   leave mental_health_consequence phys_health_consequence  \\\n",
              "0          Somewhat easy                        No                      No   \n",
              "1             Don't know                     Maybe                      No   \n",
              "2     Somewhat difficult                        No                      No   \n",
              "3     Somewhat difficult                       Yes                     Yes   \n",
              "4             Don't know                        No                      No   \n",
              "...                  ...                       ...                     ...   \n",
              "1254       Somewhat easy                        No                      No   \n",
              "1255  Somewhat difficult                        No                      No   \n",
              "1256  Somewhat difficult                       Yes                     Yes   \n",
              "1257          Don't know                       Yes                      No   \n",
              "1258          Don't know                     Maybe                      No   \n",
              "\n",
              "         coworkers    supervisor mental_health_interview  \\\n",
              "0     Some of them           Yes                      No   \n",
              "1               No            No                      No   \n",
              "2              Yes           Yes                     Yes   \n",
              "3     Some of them            No                   Maybe   \n",
              "4     Some of them           Yes                     Yes   \n",
              "...            ...           ...                     ...   \n",
              "1254  Some of them  Some of them                      No   \n",
              "1255  Some of them           Yes                      No   \n",
              "1256            No            No                      No   \n",
              "1257            No            No                      No   \n",
              "1258  Some of them            No                      No   \n",
              "\n",
              "     phys_health_interview mental_vs_physical obs_consequence  \n",
              "0                    Maybe                Yes              No  \n",
              "1                       No         Don't know              No  \n",
              "2                      Yes                 No              No  \n",
              "3                    Maybe                 No             Yes  \n",
              "4                      Yes         Don't know              No  \n",
              "...                    ...                ...             ...  \n",
              "1254                    No         Don't know              No  \n",
              "1255                    No                Yes              No  \n",
              "1256                    No                 No              No  \n",
              "1257                    No                 No              No  \n",
              "1258                    No         Don't know              No  \n",
              "\n",
              "[1247 rows x 23 columns]"
            ],
            "text/html": [
              "\n",
              "  <div id=\"df-e845d0a3-6154-472c-bdf9-6b239bbf665f\">\n",
              "    <div class=\"colab-df-container\">\n",
              "      <div>\n",
              "<style scoped>\n",
              "    .dataframe tbody tr th:only-of-type {\n",
              "        vertical-align: middle;\n",
              "    }\n",
              "\n",
              "    .dataframe tbody tr th {\n",
              "        vertical-align: top;\n",
              "    }\n",
              "\n",
              "    .dataframe thead th {\n",
              "        text-align: right;\n",
              "    }\n",
              "</style>\n",
              "<table border=\"1\" class=\"dataframe\">\n",
              "  <thead>\n",
              "    <tr style=\"text-align: right;\">\n",
              "      <th></th>\n",
              "      <th>Age</th>\n",
              "      <th>Gender</th>\n",
              "      <th>self_employed</th>\n",
              "      <th>family_history</th>\n",
              "      <th>treatment</th>\n",
              "      <th>work_interfere</th>\n",
              "      <th>no_employees</th>\n",
              "      <th>remote_work</th>\n",
              "      <th>tech_company</th>\n",
              "      <th>benefits</th>\n",
              "      <th>...</th>\n",
              "      <th>anonymity</th>\n",
              "      <th>leave</th>\n",
              "      <th>mental_health_consequence</th>\n",
              "      <th>phys_health_consequence</th>\n",
              "      <th>coworkers</th>\n",
              "      <th>supervisor</th>\n",
              "      <th>mental_health_interview</th>\n",
              "      <th>phys_health_interview</th>\n",
              "      <th>mental_vs_physical</th>\n",
              "      <th>obs_consequence</th>\n",
              "    </tr>\n",
              "  </thead>\n",
              "  <tbody>\n",
              "    <tr>\n",
              "      <th>0</th>\n",
              "      <td>37</td>\n",
              "      <td>Female</td>\n",
              "      <td>No</td>\n",
              "      <td>No</td>\n",
              "      <td>Yes</td>\n",
              "      <td>Often</td>\n",
              "      <td>6-25</td>\n",
              "      <td>No</td>\n",
              "      <td>Yes</td>\n",
              "      <td>Yes</td>\n",
              "      <td>...</td>\n",
              "      <td>Yes</td>\n",
              "      <td>Somewhat easy</td>\n",
              "      <td>No</td>\n",
              "      <td>No</td>\n",
              "      <td>Some of them</td>\n",
              "      <td>Yes</td>\n",
              "      <td>No</td>\n",
              "      <td>Maybe</td>\n",
              "      <td>Yes</td>\n",
              "      <td>No</td>\n",
              "    </tr>\n",
              "    <tr>\n",
              "      <th>1</th>\n",
              "      <td>44</td>\n",
              "      <td>Male</td>\n",
              "      <td>No</td>\n",
              "      <td>No</td>\n",
              "      <td>No</td>\n",
              "      <td>Rarely</td>\n",
              "      <td>More than 1000</td>\n",
              "      <td>No</td>\n",
              "      <td>No</td>\n",
              "      <td>Don't know</td>\n",
              "      <td>...</td>\n",
              "      <td>Don't know</td>\n",
              "      <td>Don't know</td>\n",
              "      <td>Maybe</td>\n",
              "      <td>No</td>\n",
              "      <td>No</td>\n",
              "      <td>No</td>\n",
              "      <td>No</td>\n",
              "      <td>No</td>\n",
              "      <td>Don't know</td>\n",
              "      <td>No</td>\n",
              "    </tr>\n",
              "    <tr>\n",
              "      <th>2</th>\n",
              "      <td>32</td>\n",
              "      <td>Male</td>\n",
              "      <td>No</td>\n",
              "      <td>No</td>\n",
              "      <td>No</td>\n",
              "      <td>Rarely</td>\n",
              "      <td>6-25</td>\n",
              "      <td>No</td>\n",
              "      <td>Yes</td>\n",
              "      <td>No</td>\n",
              "      <td>...</td>\n",
              "      <td>Don't know</td>\n",
              "      <td>Somewhat difficult</td>\n",
              "      <td>No</td>\n",
              "      <td>No</td>\n",
              "      <td>Yes</td>\n",
              "      <td>Yes</td>\n",
              "      <td>Yes</td>\n",
              "      <td>Yes</td>\n",
              "      <td>No</td>\n",
              "      <td>No</td>\n",
              "    </tr>\n",
              "    <tr>\n",
              "      <th>3</th>\n",
              "      <td>31</td>\n",
              "      <td>Male</td>\n",
              "      <td>No</td>\n",
              "      <td>Yes</td>\n",
              "      <td>Yes</td>\n",
              "      <td>Often</td>\n",
              "      <td>26-100</td>\n",
              "      <td>No</td>\n",
              "      <td>Yes</td>\n",
              "      <td>No</td>\n",
              "      <td>...</td>\n",
              "      <td>No</td>\n",
              "      <td>Somewhat difficult</td>\n",
              "      <td>Yes</td>\n",
              "      <td>Yes</td>\n",
              "      <td>Some of them</td>\n",
              "      <td>No</td>\n",
              "      <td>Maybe</td>\n",
              "      <td>Maybe</td>\n",
              "      <td>No</td>\n",
              "      <td>Yes</td>\n",
              "    </tr>\n",
              "    <tr>\n",
              "      <th>4</th>\n",
              "      <td>31</td>\n",
              "      <td>Male</td>\n",
              "      <td>No</td>\n",
              "      <td>No</td>\n",
              "      <td>No</td>\n",
              "      <td>Never</td>\n",
              "      <td>100-500</td>\n",
              "      <td>Yes</td>\n",
              "      <td>Yes</td>\n",
              "      <td>Yes</td>\n",
              "      <td>...</td>\n",
              "      <td>Don't know</td>\n",
              "      <td>Don't know</td>\n",
              "      <td>No</td>\n",
              "      <td>No</td>\n",
              "      <td>Some of them</td>\n",
              "      <td>Yes</td>\n",
              "      <td>Yes</td>\n",
              "      <td>Yes</td>\n",
              "      <td>Don't know</td>\n",
              "      <td>No</td>\n",
              "    </tr>\n",
              "    <tr>\n",
              "      <th>...</th>\n",
              "      <td>...</td>\n",
              "      <td>...</td>\n",
              "      <td>...</td>\n",
              "      <td>...</td>\n",
              "      <td>...</td>\n",
              "      <td>...</td>\n",
              "      <td>...</td>\n",
              "      <td>...</td>\n",
              "      <td>...</td>\n",
              "      <td>...</td>\n",
              "      <td>...</td>\n",
              "      <td>...</td>\n",
              "      <td>...</td>\n",
              "      <td>...</td>\n",
              "      <td>...</td>\n",
              "      <td>...</td>\n",
              "      <td>...</td>\n",
              "      <td>...</td>\n",
              "      <td>...</td>\n",
              "      <td>...</td>\n",
              "      <td>...</td>\n",
              "    </tr>\n",
              "    <tr>\n",
              "      <th>1254</th>\n",
              "      <td>26</td>\n",
              "      <td>Male</td>\n",
              "      <td>No</td>\n",
              "      <td>No</td>\n",
              "      <td>Yes</td>\n",
              "      <td>N/A</td>\n",
              "      <td>26-100</td>\n",
              "      <td>No</td>\n",
              "      <td>Yes</td>\n",
              "      <td>No</td>\n",
              "      <td>...</td>\n",
              "      <td>Don't know</td>\n",
              "      <td>Somewhat easy</td>\n",
              "      <td>No</td>\n",
              "      <td>No</td>\n",
              "      <td>Some of them</td>\n",
              "      <td>Some of them</td>\n",
              "      <td>No</td>\n",
              "      <td>No</td>\n",
              "      <td>Don't know</td>\n",
              "      <td>No</td>\n",
              "    </tr>\n",
              "    <tr>\n",
              "      <th>1255</th>\n",
              "      <td>32</td>\n",
              "      <td>Male</td>\n",
              "      <td>No</td>\n",
              "      <td>Yes</td>\n",
              "      <td>Yes</td>\n",
              "      <td>Often</td>\n",
              "      <td>26-100</td>\n",
              "      <td>Yes</td>\n",
              "      <td>Yes</td>\n",
              "      <td>Yes</td>\n",
              "      <td>...</td>\n",
              "      <td>Yes</td>\n",
              "      <td>Somewhat difficult</td>\n",
              "      <td>No</td>\n",
              "      <td>No</td>\n",
              "      <td>Some of them</td>\n",
              "      <td>Yes</td>\n",
              "      <td>No</td>\n",
              "      <td>No</td>\n",
              "      <td>Yes</td>\n",
              "      <td>No</td>\n",
              "    </tr>\n",
              "    <tr>\n",
              "      <th>1256</th>\n",
              "      <td>34</td>\n",
              "      <td>Male</td>\n",
              "      <td>No</td>\n",
              "      <td>Yes</td>\n",
              "      <td>Yes</td>\n",
              "      <td>Sometimes</td>\n",
              "      <td>More than 1000</td>\n",
              "      <td>No</td>\n",
              "      <td>Yes</td>\n",
              "      <td>Yes</td>\n",
              "      <td>...</td>\n",
              "      <td>Don't know</td>\n",
              "      <td>Somewhat difficult</td>\n",
              "      <td>Yes</td>\n",
              "      <td>Yes</td>\n",
              "      <td>No</td>\n",
              "      <td>No</td>\n",
              "      <td>No</td>\n",
              "      <td>No</td>\n",
              "      <td>No</td>\n",
              "      <td>No</td>\n",
              "    </tr>\n",
              "    <tr>\n",
              "      <th>1257</th>\n",
              "      <td>46</td>\n",
              "      <td>Female</td>\n",
              "      <td>No</td>\n",
              "      <td>No</td>\n",
              "      <td>No</td>\n",
              "      <td>N/A</td>\n",
              "      <td>100-500</td>\n",
              "      <td>Yes</td>\n",
              "      <td>Yes</td>\n",
              "      <td>No</td>\n",
              "      <td>...</td>\n",
              "      <td>Don't know</td>\n",
              "      <td>Don't know</td>\n",
              "      <td>Yes</td>\n",
              "      <td>No</td>\n",
              "      <td>No</td>\n",
              "      <td>No</td>\n",
              "      <td>No</td>\n",
              "      <td>No</td>\n",
              "      <td>No</td>\n",
              "      <td>No</td>\n",
              "    </tr>\n",
              "    <tr>\n",
              "      <th>1258</th>\n",
              "      <td>25</td>\n",
              "      <td>Male</td>\n",
              "      <td>No</td>\n",
              "      <td>Yes</td>\n",
              "      <td>Yes</td>\n",
              "      <td>Sometimes</td>\n",
              "      <td>26-100</td>\n",
              "      <td>No</td>\n",
              "      <td>No</td>\n",
              "      <td>Yes</td>\n",
              "      <td>...</td>\n",
              "      <td>Yes</td>\n",
              "      <td>Don't know</td>\n",
              "      <td>Maybe</td>\n",
              "      <td>No</td>\n",
              "      <td>Some of them</td>\n",
              "      <td>No</td>\n",
              "      <td>No</td>\n",
              "      <td>No</td>\n",
              "      <td>Don't know</td>\n",
              "      <td>No</td>\n",
              "    </tr>\n",
              "  </tbody>\n",
              "</table>\n",
              "<p>1247 rows × 23 columns</p>\n",
              "</div>\n",
              "      <button class=\"colab-df-convert\" onclick=\"convertToInteractive('df-e845d0a3-6154-472c-bdf9-6b239bbf665f')\"\n",
              "              title=\"Convert this dataframe to an interactive table.\"\n",
              "              style=\"display:none;\">\n",
              "        \n",
              "  <svg xmlns=\"http://www.w3.org/2000/svg\" height=\"24px\"viewBox=\"0 0 24 24\"\n",
              "       width=\"24px\">\n",
              "    <path d=\"M0 0h24v24H0V0z\" fill=\"none\"/>\n",
              "    <path d=\"M18.56 5.44l.94 2.06.94-2.06 2.06-.94-2.06-.94-.94-2.06-.94 2.06-2.06.94zm-11 1L8.5 8.5l.94-2.06 2.06-.94-2.06-.94L8.5 2.5l-.94 2.06-2.06.94zm10 10l.94 2.06.94-2.06 2.06-.94-2.06-.94-.94-2.06-.94 2.06-2.06.94z\"/><path d=\"M17.41 7.96l-1.37-1.37c-.4-.4-.92-.59-1.43-.59-.52 0-1.04.2-1.43.59L10.3 9.45l-7.72 7.72c-.78.78-.78 2.05 0 2.83L4 21.41c.39.39.9.59 1.41.59.51 0 1.02-.2 1.41-.59l7.78-7.78 2.81-2.81c.8-.78.8-2.07 0-2.86zM5.41 20L4 18.59l7.72-7.72 1.47 1.35L5.41 20z\"/>\n",
              "  </svg>\n",
              "      </button>\n",
              "      \n",
              "  <style>\n",
              "    .colab-df-container {\n",
              "      display:flex;\n",
              "      flex-wrap:wrap;\n",
              "      gap: 12px;\n",
              "    }\n",
              "\n",
              "    .colab-df-convert {\n",
              "      background-color: #E8F0FE;\n",
              "      border: none;\n",
              "      border-radius: 50%;\n",
              "      cursor: pointer;\n",
              "      display: none;\n",
              "      fill: #1967D2;\n",
              "      height: 32px;\n",
              "      padding: 0 0 0 0;\n",
              "      width: 32px;\n",
              "    }\n",
              "\n",
              "    .colab-df-convert:hover {\n",
              "      background-color: #E2EBFA;\n",
              "      box-shadow: 0px 1px 2px rgba(60, 64, 67, 0.3), 0px 1px 3px 1px rgba(60, 64, 67, 0.15);\n",
              "      fill: #174EA6;\n",
              "    }\n",
              "\n",
              "    [theme=dark] .colab-df-convert {\n",
              "      background-color: #3B4455;\n",
              "      fill: #D2E3FC;\n",
              "    }\n",
              "\n",
              "    [theme=dark] .colab-df-convert:hover {\n",
              "      background-color: #434B5C;\n",
              "      box-shadow: 0px 1px 3px 1px rgba(0, 0, 0, 0.15);\n",
              "      filter: drop-shadow(0px 1px 2px rgba(0, 0, 0, 0.3));\n",
              "      fill: #FFFFFF;\n",
              "    }\n",
              "  </style>\n",
              "\n",
              "      <script>\n",
              "        const buttonEl =\n",
              "          document.querySelector('#df-e845d0a3-6154-472c-bdf9-6b239bbf665f button.colab-df-convert');\n",
              "        buttonEl.style.display =\n",
              "          google.colab.kernel.accessAllowed ? 'block' : 'none';\n",
              "\n",
              "        async function convertToInteractive(key) {\n",
              "          const element = document.querySelector('#df-e845d0a3-6154-472c-bdf9-6b239bbf665f');\n",
              "          const dataTable =\n",
              "            await google.colab.kernel.invokeFunction('convertToInteractive',\n",
              "                                                     [key], {});\n",
              "          if (!dataTable) return;\n",
              "\n",
              "          const docLinkHtml = 'Like what you see? Visit the ' +\n",
              "            '<a target=\"_blank\" href=https://colab.research.google.com/notebooks/data_table.ipynb>data table notebook</a>'\n",
              "            + ' to learn more about interactive tables.';\n",
              "          element.innerHTML = '';\n",
              "          dataTable['output_type'] = 'display_data';\n",
              "          await google.colab.output.renderOutput(dataTable, element);\n",
              "          const docLink = document.createElement('div');\n",
              "          docLink.innerHTML = docLinkHtml;\n",
              "          element.appendChild(docLink);\n",
              "        }\n",
              "      </script>\n",
              "    </div>\n",
              "  </div>\n",
              "  "
            ]
          },
          "metadata": {},
          "execution_count": 63
        }
      ]
    },
    {
      "cell_type": "code",
      "source": [
        "x=data.drop('treatment', axis=1)\n",
        "y= data['treatment']"
      ],
      "metadata": {
        "id": "jVIUKnrHK8UB"
      },
      "execution_count": null,
      "outputs": []
    },
    {
      "cell_type": "code",
      "source": [
        "from sklearn. compose import ColumnTransformer\n",
        "from sklearn. preprocessing import LabelEncoder,OrdinalEncoder"
      ],
      "metadata": {
        "id": "7esvdYBePVSQ"
      },
      "execution_count": null,
      "outputs": []
    },
    {
      "cell_type": "code",
      "source": [
        "x=data.drop('treatment', axis=1)\n",
        "y= data['treatment']"
      ],
      "metadata": {
        "id": "Y4XvKiGXUihj"
      },
      "execution_count": null,
      "outputs": []
    },
    {
      "cell_type": "code",
      "source": [
        "ct= ColumnTransformer([('oe',OrdinalEncoder(),['Gender','self_employed','family_history',\n",
        "'work_interfere','no_employees','remote_work','tech_company','benefits','care_options','wellness_program','seek_help',\n",
        "'anonymity','leave','mental_health_consequence','phys_health_consequence',\n",
        "'coworkers','supervisor','mental_health_interview','phys_health_interview','mental_vs_physical','obs_consequence'])],remainder='passthrough')"
      ],
      "metadata": {
        "id": "WbriVBz-UsO-"
      },
      "execution_count": null,
      "outputs": []
    },
    {
      "cell_type": "code",
      "source": [
        "x=ct.fit_transform(x)"
      ],
      "metadata": {
        "id": "WLUAUZL_XlpQ"
      },
      "execution_count": null,
      "outputs": []
    },
    {
      "cell_type": "code",
      "source": [
        "le=LabelEncoder()\n",
        "y=le.fit_transform(y)"
      ],
      "metadata": {
        "id": "W8SNa8i8XvDL"
      },
      "execution_count": null,
      "outputs": []
    },
    {
      "cell_type": "code",
      "source": [
        "print(y)"
      ],
      "metadata": {
        "colab": {
          "base_uri": "https://localhost:8080/"
        },
        "id": "JqekuVQL0-Ch",
        "outputId": "55b7a9c0-56c8-4fca-ce38-2e2d1926f56f"
      },
      "execution_count": null,
      "outputs": [
        {
          "output_type": "stream",
          "name": "stdout",
          "text": [
            "[1 0 0 ... 1 0 1]\n"
          ]
        }
      ]
    },
    {
      "cell_type": "code",
      "source": [
        "import joblib\n",
        "joblib.dump(ct,'feature_values')"
      ],
      "metadata": {
        "id": "NXyklBE6X5p6",
        "colab": {
          "base_uri": "https://localhost:8080/"
        },
        "outputId": "88059ae4-a7dc-4173-aecc-b08a4d23b435"
      },
      "execution_count": null,
      "outputs": [
        {
          "output_type": "execute_result",
          "data": {
            "text/plain": [
              "['feature_values']"
            ]
          },
          "metadata": {},
          "execution_count": 71
        }
      ]
    },
    {
      "cell_type": "code",
      "source": [
        "from sklearn.model_selection import train_test_split\n",
        "x_train,x_test,y_train,y_test=train_test_split(x,y,test_size=0.3,random_state=49)"
      ],
      "metadata": {
        "id": "nnFYrlJEYh2D"
      },
      "execution_count": null,
      "outputs": []
    },
    {
      "cell_type": "code",
      "source": [
        "x_train.shape,x_test.shape,y_train.shape,y_test.shape"
      ],
      "metadata": {
        "id": "75Pl0NoFZC8X",
        "colab": {
          "base_uri": "https://localhost:8080/"
        },
        "outputId": "655338d9-4a2a-48ac-b312-cec6691c1222"
      },
      "execution_count": null,
      "outputs": [
        {
          "output_type": "execute_result",
          "data": {
            "text/plain": [
              "((872, 22), (375, 22), (872,), (375,))"
            ]
          },
          "metadata": {},
          "execution_count": 73
        }
      ]
    },
    {
      "cell_type": "code",
      "source": [
        "from sklearn.linear_model import LogisticRegression\n",
        "from sklearn.tree import DecisionTreeClassifier\n",
        "from sklearn.neighbors import KNeighborsClassifier\n",
        "from sklearn.ensemble import RandomForestClassifier,AdaBoostClassifier,GradientBoostingClassifier\n",
        "from xgboost.sklearn import XGBClassifier\n",
        "from sklearn.metrics import accuracy_score,roc_curve,confusion_matrix,classification_report,auc\n"
      ],
      "metadata": {
        "id": "Ipwsfjv5ZWG6"
      },
      "execution_count": null,
      "outputs": []
    },
    {
      "cell_type": "code",
      "source": [
        "model_dict={}\n",
        "model_dict['Logistic regression']= LogisticRegression(solver='liblinear',random_state=49)\n",
        "model_dict['KNN']=KNeighborsClassifier()\n",
        "model_dict['Decision Tree']=DecisionTreeClassifier(random_state=49)\n",
        "model_dict['Random Forest']=RandomForestClassifier(random_state=49)\n",
        "model_dict['AdaBoost']=AdaBoostClassifier(random_state=49)\n",
        "model_dict['Gradient Boosting']=GradientBoostingClassifier(random_state=49)\n",
        "model_dict['XGB']=XGBClassifier(random_state=49)"
      ],
      "metadata": {
        "id": "Tlshj1X1bxbr"
      },
      "execution_count": null,
      "outputs": []
    },
    {
      "cell_type": "code",
      "source": [
        "def model_test(x_train,x_test,y_train,y_test,model,model_name):\n",
        "  model.fit(x_train,y_train)\n",
        "  y_pred=model_predict(x_test)\n",
        "  accuracy=accuracy_score(y_test,y_pred)\n",
        "  print('==============================================='.format(model_name))\n",
        "  print('score is:{}'.format(accuracy))\n",
        "  print()"
      ],
      "metadata": {
        "id": "h7-Srz1ReND8"
      },
      "execution_count": null,
      "outputs": []
    },
    {
      "cell_type": "code",
      "source": [
        "abc=LogisticRegression(random_state=99)\n",
        "abc.fit(x_train,y_train)\n",
        "pred_abc=abc.predict(x_test)\n",
        "print('Accurancy of LogisticRegression',accuracy_score(y_test,pred_abc))"
      ],
      "metadata": {
        "id": "40Uu0f_Plx2S",
        "colab": {
          "base_uri": "https://localhost:8080/"
        },
        "outputId": "87de6d6c-4380-47da-e3d3-223f584c37a2"
      },
      "execution_count": null,
      "outputs": [
        {
          "output_type": "stream",
          "name": "stdout",
          "text": [
            "Accurancy of LogisticRegression 0.8506666666666667\n"
          ]
        }
      ]
    },
    {
      "cell_type": "code",
      "source": [
        "abc=AdaBoostClassifier(random_state=99)\n",
        "abc.fit(x_train,y_train)\n",
        "pred_abc=abc.predict(x_test)\n",
        "print('Accurancy of AdaBoost',accuracy_score(y_test,pred_abc))"
      ],
      "metadata": {
        "id": "-5GB38KwfMRv",
        "colab": {
          "base_uri": "https://localhost:8080/"
        },
        "outputId": "9e18a0b3-232d-4c3b-bd7f-db036a88ab83"
      },
      "execution_count": null,
      "outputs": [
        {
          "output_type": "stream",
          "name": "stdout",
          "text": [
            "Accurancy of AdaBoost 0.8533333333333334\n"
          ]
        }
      ]
    },
    {
      "cell_type": "code",
      "source": [
        "from sklearn.model_selection import RandomizedSearchCV\n",
        "params_abc = {'n_estimators':[int (x) for x in np.linspace(start = 1,stop = 50,num = 15)],\n",
        "            'learning_rate':[(0.97 + x/100) for x in range(0,8)],}\n",
        "abc_random=RandomizedSearchCV(random_state=49,estimator=abc,param_distributions=params_abc,n_iter=50,cv=5,n_jobs=-1)"
      ],
      "metadata": {
        "id": "xbY8nVT6z6X5"
      },
      "execution_count": null,
      "outputs": []
    },
    {
      "cell_type": "code",
      "source": [
        "params_abc"
      ],
      "metadata": {
        "id": "NoZUklm0fqQu",
        "colab": {
          "base_uri": "https://localhost:8080/"
        },
        "outputId": "e540c67d-86b2-47a7-eeb7-3dd71be31088"
      },
      "execution_count": null,
      "outputs": [
        {
          "output_type": "execute_result",
          "data": {
            "text/plain": [
              "{'n_estimators': [1, 4, 8, 11, 15, 18, 22, 25, 29, 32, 36, 39, 43, 46, 50],\n",
              " 'learning_rate': [0.97, 0.98, 0.99, 1.0, 1.01, 1.02, 1.03, 1.04]}"
            ]
          },
          "metadata": {},
          "execution_count": 80
        }
      ]
    },
    {
      "cell_type": "code",
      "source": [
        "abc_random.fit(x_train,y_train)"
      ],
      "metadata": {
        "id": "XAGLr0NhiLe8",
        "colab": {
          "base_uri": "https://localhost:8080/",
          "height": 140
        },
        "outputId": "7a9351c7-745f-4347-b695-1130bae75c92"
      },
      "execution_count": null,
      "outputs": [
        {
          "output_type": "execute_result",
          "data": {
            "text/plain": [
              "RandomizedSearchCV(cv=5, estimator=AdaBoostClassifier(random_state=99),\n",
              "                   n_iter=50, n_jobs=-1,\n",
              "                   param_distributions={'learning_rate': [0.97, 0.98, 0.99, 1.0,\n",
              "                                                          1.01, 1.02, 1.03,\n",
              "                                                          1.04],\n",
              "                                        'n_estimators': [1, 4, 8, 11, 15, 18,\n",
              "                                                         22, 25, 29, 32, 36, 39,\n",
              "                                                         43, 46, 50]},\n",
              "                   random_state=49)"
            ],
            "text/html": [
              "<style>#sk-container-id-2 {color: black;background-color: white;}#sk-container-id-2 pre{padding: 0;}#sk-container-id-2 div.sk-toggleable {background-color: white;}#sk-container-id-2 label.sk-toggleable__label {cursor: pointer;display: block;width: 100%;margin-bottom: 0;padding: 0.3em;box-sizing: border-box;text-align: center;}#sk-container-id-2 label.sk-toggleable__label-arrow:before {content: \"▸\";float: left;margin-right: 0.25em;color: #696969;}#sk-container-id-2 label.sk-toggleable__label-arrow:hover:before {color: black;}#sk-container-id-2 div.sk-estimator:hover label.sk-toggleable__label-arrow:before {color: black;}#sk-container-id-2 div.sk-toggleable__content {max-height: 0;max-width: 0;overflow: hidden;text-align: left;background-color: #f0f8ff;}#sk-container-id-2 div.sk-toggleable__content pre {margin: 0.2em;color: black;border-radius: 0.25em;background-color: #f0f8ff;}#sk-container-id-2 input.sk-toggleable__control:checked~div.sk-toggleable__content {max-height: 200px;max-width: 100%;overflow: auto;}#sk-container-id-2 input.sk-toggleable__control:checked~label.sk-toggleable__label-arrow:before {content: \"▾\";}#sk-container-id-2 div.sk-estimator input.sk-toggleable__control:checked~label.sk-toggleable__label {background-color: #d4ebff;}#sk-container-id-2 div.sk-label input.sk-toggleable__control:checked~label.sk-toggleable__label {background-color: #d4ebff;}#sk-container-id-2 input.sk-hidden--visually {border: 0;clip: rect(1px 1px 1px 1px);clip: rect(1px, 1px, 1px, 1px);height: 1px;margin: -1px;overflow: hidden;padding: 0;position: absolute;width: 1px;}#sk-container-id-2 div.sk-estimator {font-family: monospace;background-color: #f0f8ff;border: 1px dotted black;border-radius: 0.25em;box-sizing: border-box;margin-bottom: 0.5em;}#sk-container-id-2 div.sk-estimator:hover {background-color: #d4ebff;}#sk-container-id-2 div.sk-parallel-item::after {content: \"\";width: 100%;border-bottom: 1px solid gray;flex-grow: 1;}#sk-container-id-2 div.sk-label:hover label.sk-toggleable__label {background-color: #d4ebff;}#sk-container-id-2 div.sk-serial::before {content: \"\";position: absolute;border-left: 1px solid gray;box-sizing: border-box;top: 0;bottom: 0;left: 50%;z-index: 0;}#sk-container-id-2 div.sk-serial {display: flex;flex-direction: column;align-items: center;background-color: white;padding-right: 0.2em;padding-left: 0.2em;position: relative;}#sk-container-id-2 div.sk-item {position: relative;z-index: 1;}#sk-container-id-2 div.sk-parallel {display: flex;align-items: stretch;justify-content: center;background-color: white;position: relative;}#sk-container-id-2 div.sk-item::before, #sk-container-id-2 div.sk-parallel-item::before {content: \"\";position: absolute;border-left: 1px solid gray;box-sizing: border-box;top: 0;bottom: 0;left: 50%;z-index: -1;}#sk-container-id-2 div.sk-parallel-item {display: flex;flex-direction: column;z-index: 1;position: relative;background-color: white;}#sk-container-id-2 div.sk-parallel-item:first-child::after {align-self: flex-end;width: 50%;}#sk-container-id-2 div.sk-parallel-item:last-child::after {align-self: flex-start;width: 50%;}#sk-container-id-2 div.sk-parallel-item:only-child::after {width: 0;}#sk-container-id-2 div.sk-dashed-wrapped {border: 1px dashed gray;margin: 0 0.4em 0.5em 0.4em;box-sizing: border-box;padding-bottom: 0.4em;background-color: white;}#sk-container-id-2 div.sk-label label {font-family: monospace;font-weight: bold;display: inline-block;line-height: 1.2em;}#sk-container-id-2 div.sk-label-container {text-align: center;}#sk-container-id-2 div.sk-container {/* jupyter's `normalize.less` sets `[hidden] { display: none; }` but bootstrap.min.css set `[hidden] { display: none !important; }` so we also need the `!important` here to be able to override the default hidden behavior on the sphinx rendered scikit-learn.org. See: https://github.com/scikit-learn/scikit-learn/issues/21755 */display: inline-block !important;position: relative;}#sk-container-id-2 div.sk-text-repr-fallback {display: none;}</style><div id=\"sk-container-id-2\" class=\"sk-top-container\"><div class=\"sk-text-repr-fallback\"><pre>RandomizedSearchCV(cv=5, estimator=AdaBoostClassifier(random_state=99),\n",
              "                   n_iter=50, n_jobs=-1,\n",
              "                   param_distributions={&#x27;learning_rate&#x27;: [0.97, 0.98, 0.99, 1.0,\n",
              "                                                          1.01, 1.02, 1.03,\n",
              "                                                          1.04],\n",
              "                                        &#x27;n_estimators&#x27;: [1, 4, 8, 11, 15, 18,\n",
              "                                                         22, 25, 29, 32, 36, 39,\n",
              "                                                         43, 46, 50]},\n",
              "                   random_state=49)</pre><b>In a Jupyter environment, please rerun this cell to show the HTML representation or trust the notebook. <br />On GitHub, the HTML representation is unable to render, please try loading this page with nbviewer.org.</b></div><div class=\"sk-container\" hidden><div class=\"sk-item sk-dashed-wrapped\"><div class=\"sk-label-container\"><div class=\"sk-label sk-toggleable\"><input class=\"sk-toggleable__control sk-hidden--visually\" id=\"sk-estimator-id-4\" type=\"checkbox\" ><label for=\"sk-estimator-id-4\" class=\"sk-toggleable__label sk-toggleable__label-arrow\">RandomizedSearchCV</label><div class=\"sk-toggleable__content\"><pre>RandomizedSearchCV(cv=5, estimator=AdaBoostClassifier(random_state=99),\n",
              "                   n_iter=50, n_jobs=-1,\n",
              "                   param_distributions={&#x27;learning_rate&#x27;: [0.97, 0.98, 0.99, 1.0,\n",
              "                                                          1.01, 1.02, 1.03,\n",
              "                                                          1.04],\n",
              "                                        &#x27;n_estimators&#x27;: [1, 4, 8, 11, 15, 18,\n",
              "                                                         22, 25, 29, 32, 36, 39,\n",
              "                                                         43, 46, 50]},\n",
              "                   random_state=49)</pre></div></div></div><div class=\"sk-parallel\"><div class=\"sk-parallel-item\"><div class=\"sk-item\"><div class=\"sk-label-container\"><div class=\"sk-label sk-toggleable\"><input class=\"sk-toggleable__control sk-hidden--visually\" id=\"sk-estimator-id-5\" type=\"checkbox\" ><label for=\"sk-estimator-id-5\" class=\"sk-toggleable__label sk-toggleable__label-arrow\">estimator: AdaBoostClassifier</label><div class=\"sk-toggleable__content\"><pre>AdaBoostClassifier(random_state=99)</pre></div></div></div><div class=\"sk-serial\"><div class=\"sk-item\"><div class=\"sk-estimator sk-toggleable\"><input class=\"sk-toggleable__control sk-hidden--visually\" id=\"sk-estimator-id-6\" type=\"checkbox\" ><label for=\"sk-estimator-id-6\" class=\"sk-toggleable__label sk-toggleable__label-arrow\">AdaBoostClassifier</label><div class=\"sk-toggleable__content\"><pre>AdaBoostClassifier(random_state=99)</pre></div></div></div></div></div></div></div></div></div></div>"
            ]
          },
          "metadata": {},
          "execution_count": 81
        }
      ]
    },
    {
      "cell_type": "code",
      "source": [
        "abc_random.best_params_"
      ],
      "metadata": {
        "id": "LmIv_KaMiilp",
        "colab": {
          "base_uri": "https://localhost:8080/"
        },
        "outputId": "0eab29d4-6099-468e-a5c3-459c1c44bace"
      },
      "execution_count": null,
      "outputs": [
        {
          "output_type": "execute_result",
          "data": {
            "text/plain": [
              "{'n_estimators': 11, 'learning_rate': 1.04}"
            ]
          },
          "metadata": {},
          "execution_count": 82
        }
      ]
    },
    {
      "cell_type": "code",
      "source": [
        "abc_tuned=AdaBoostClassifier(random_state=49,n_estimators=11,learning_rate=1.02)\n",
        "abc_tuned.fit(x_train,y_train)\n",
        "pred_abc_tuned=abc_tuned.predict(x_test)\n",
        "print('Accurancy of AdaBoost(tuned)=',accuracy_score(y_test,pred_abc_tuned))"
      ],
      "metadata": {
        "id": "kYAEWt5_ipSp",
        "colab": {
          "base_uri": "https://localhost:8080/"
        },
        "outputId": "ca0cce20-f835-40fc-b2fc-88b907cb36e8"
      },
      "execution_count": null,
      "outputs": [
        {
          "output_type": "stream",
          "name": "stdout",
          "text": [
            "Accurancy of AdaBoost(tuned)= 0.8746666666666667\n"
          ]
        }
      ]
    },
    {
      "cell_type": "code",
      "source": [
        "from sklearn.metrics import accuracy_score\n",
        "from sklearn.metrics import matthews_corrcoef\n",
        "from sklearn.metrics import f1_score\n"
      ],
      "metadata": {
        "id": "hXQNDBT4jpal"
      },
      "execution_count": null,
      "outputs": []
    },
    {
      "cell_type": "code",
      "source": [
        "from sklearn.neighbors import KNeighborsClassifier\n",
        "knn=KNeighborsClassifier(3)\n",
        "knn.fit(x_train,y_train)\n",
        "y_train_pred=knn.predict(x_train)\n",
        "y_test_pred=knn.predict(x_test)\n",
        "\n",
        "knn_train_accuracy=accuracy_score(y_train,y_train_pred)\n",
        "knn_train_mcc=matthews_corrcoef(y_train,y_train_pred)\n",
        "knn_train_f1=f1_score(y_train,y_train_pred,average='weighted')\n",
        "\n",
        "knn_test_accuracy=accuracy_score(y_test,y_test_pred)\n",
        "knn_test_mcc=matthews_corrcoef(y_test,y_test_pred)\n",
        "knn_test_f1=f1_score(y_test,y_test_pred,average='weighted')\n",
        "\n",
        "\n",
        "print(\"training set\")\n",
        "print(\"accurancy %s\",knn_train_accuracy)\n",
        "print(\"mcc %s\",knn_train_mcc)\n",
        "print(\"f1 score %s\",knn_train_f1)\n",
        "\n",
        "print(\"test set\")\n",
        "print(\"accurancy %s\",knn_test_accuracy)\n",
        "print(\"mcc %s\",knn_test_mcc)\n",
        "print(\"f1 score %s\",knn_test_f1)\n"
      ],
      "metadata": {
        "id": "3mpUzYqDoZA7",
        "colab": {
          "base_uri": "https://localhost:8080/"
        },
        "outputId": "89f9b512-f623-4e7d-e8cc-f30d351601d6"
      },
      "execution_count": null,
      "outputs": [
        {
          "output_type": "stream",
          "name": "stdout",
          "text": [
            "training set\n",
            "accurancy %s 0.8509174311926605\n",
            "mcc %s 0.7028443956770687\n",
            "f1 score %s 0.8507336036464422\n",
            "test set\n",
            "accurancy %s 0.752\n",
            "mcc %s 0.5042533266757817\n",
            "f1 score %s 0.7519823639427965\n"
          ]
        }
      ]
    },
    {
      "cell_type": "code",
      "source": [
        "from sklearn.neural_network import MLPClassifier\n",
        "\n",
        "mlp=MLPClassifier(alpha=1,max_iter=1000)\n",
        "mlp.fit(x_train,y_train)\n",
        "\n",
        "y_train_pred=mlp.predict(x_train)\n",
        "y_test_pred=mlp.predict(x_test)\n",
        "\n",
        "mlp_train_accuracy=accuracy_score(y_train,y_train_pred)\n",
        "mlp_train_mcc=matthews_corrcoef(y_train,y_train_pred)\n",
        "mlp_train_f1=f1_score(y_train,y_train_pred,average='weighted')\n",
        "\n",
        "mlp_test_accuracy=accuracy_score(y_test,y_test_pred)\n",
        "mlp_test_mcc=matthews_corrcoef(y_test,y_test_pred)\n",
        "mlp_test_f1=f1_score(y_test,y_test_pred,average='weighted')\n",
        "\n",
        "\n",
        "\n",
        "print(\"training set\")\n",
        "print(\"accurancy %s\",mlp_train_accuracy)\n",
        "print(\"mcc %s\",mlp_train_mcc)\n",
        "print(\"f1 score %s\",mlp_train_f1)\n",
        "\n",
        "print(\"test set\")\n",
        "print(\"accurancy %s\",mlp_test_accuracy)\n",
        "print(\"mcc %s\",mlp_test_mcc)\n",
        "print(\"f1 score %s\",mlp_test_f1)"
      ],
      "metadata": {
        "colab": {
          "base_uri": "https://localhost:8080/"
        },
        "id": "9f2VFYvLxytF",
        "outputId": "04def790-d5ed-4e48-ac04-029bb81a7bb9"
      },
      "execution_count": null,
      "outputs": [
        {
          "output_type": "stream",
          "name": "stdout",
          "text": [
            "training set\n",
            "accurancy %s 0.8245412844036697\n",
            "mcc %s 0.6510482251389572\n",
            "f1 score %s 0.8241388407641115\n",
            "test set\n",
            "accurancy %s 0.8666666666666667\n",
            "mcc %s 0.7338940539398641\n",
            "f1 score %s 0.8665831577748677\n"
          ]
        }
      ]
    },
    {
      "cell_type": "code",
      "source": [
        "from sklearn.svm import SVC\n",
        "\n",
        "svm_rbf=SVC(gamma=2,C=1)\n",
        "svm_rbf.fit(x_train,y_train)\n",
        "y_train_pred=svm_rbf.predict(x_train)\n",
        "y_test_pred=svm_rbf.predict(x_test)\n",
        "\n",
        "svm_rbf_train_accuracy=accuracy_score(y_train,y_train_pred)\n",
        "svm_rbf_train_mcc=matthews_corrcoef(y_train,y_train_pred)\n",
        "svm_rbf_train_f1=f1_score(y_train,y_train_pred,average='weighted')\n",
        "\n",
        "svm_rbf_test_accuracy=accuracy_score(y_test,y_test_pred)\n",
        "svm_rbf_test_mcc=matthews_corrcoef(y_test,y_test_pred)\n",
        "svm_rbf_test_f1=f1_score(y_test,y_test_pred,average='weighted')\n",
        "\n",
        "\n",
        "print(\"training set\")\n",
        "print(\"accurancy %s\",svm_rbf_train_accuracy)\n",
        "print(\"mcc %s\",svm_rbf_train_mcc)\n",
        "print(\"f1 score %s\",svm_rbf_train_f1)\n",
        "\n",
        "print(\"training set\")\n",
        "print(\"accurancy %s\",svm_rbf_test_accuracy)\n",
        "print(\"mcc %s\",svm_rbf_test_mcc)\n",
        "print(\"f1 score %s\",svm_rbf_test_f1)\n",
        "\n",
        "\n"
      ],
      "metadata": {
        "id": "viOtxemp0HgL",
        "colab": {
          "base_uri": "https://localhost:8080/"
        },
        "outputId": "b45c41d5-c3d1-4f15-b4ea-84076fd87f36"
      },
      "execution_count": null,
      "outputs": [
        {
          "output_type": "stream",
          "name": "stdout",
          "text": [
            "training set\n",
            "accurancy %s 1.0\n",
            "mcc %s 1.0\n",
            "f1 score %s 1.0\n",
            "training set\n",
            "accurancy %s 0.5066666666666667\n",
            "mcc %s 0.052124107149615115\n",
            "f1 score %s 0.34369202420189776\n"
          ]
        }
      ]
    },
    {
      "cell_type": "code",
      "source": [
        "from sklearn.ensemble import RandomForestClassifier\n",
        "rf=RandomForestClassifier(n_estimators=10)\n",
        "rf.fit(x_train,y_train)\n",
        "\n",
        "y_train_pred=rf.predict(x_train)\n",
        "y_test_pred=rf.predict(x_test)\n",
        "\n",
        "rf_train_accuracy=accuracy_score(y_train,y_train_pred)\n",
        "rf_train_mcc=matthews_corrcoef(y_train,y_train_pred)\n",
        "rf_train_f1=f1_score(y_train,y_train_pred, average='weighted')\n",
        "\n",
        "rf_test_accuracy=accuracy_score(y_test,y_test_pred)\n",
        "rf_test_mcc=matthews_corrcoef(y_test,y_test_pred)\n",
        "rf_test_f1=f1_score(y_test,y_test_pred ,average='weighted')\n",
        "\n",
        "\n",
        "print(\"model performance of training set\")\n",
        "print(\"accurancy %s\",rf_train_accuracy)\n",
        "print(\"mcc %s\",rf_train_mcc)\n",
        "print(\"f1 score %s\",rf_train_f1)\n",
        "\n",
        "print(\"test set\")\n",
        "print(\"accurancy %s\",rf_test_accuracy)\n",
        "print(\"mcc %s\",rf_test_mcc)\n",
        "print(\"f1 score %s\",rf_test_f1)\n",
        "\n",
        "                       \n",
        "\n"
      ],
      "metadata": {
        "id": "lXbZuH9tvAV_",
        "colab": {
          "base_uri": "https://localhost:8080/"
        },
        "outputId": "3a625b73-75de-4e4d-90f5-d57ba294c76c"
      },
      "execution_count": null,
      "outputs": [
        {
          "output_type": "stream",
          "name": "stdout",
          "text": [
            "model performance of training set\n",
            "accurancy %s 0.9919724770642202\n",
            "mcc %s 0.9839674049571243\n",
            "f1 score %s 0.991972698779624\n",
            "test set\n",
            "accurancy %s 0.8133333333333334\n",
            "mcc %s 0.6270593462115127\n",
            "f1 score %s 0.8133094384707289\n"
          ]
        }
      ]
    },
    {
      "cell_type": "code",
      "source": [
        "from sklearn.tree import DecisionTreeClassifier\n",
        "dt=DecisionTreeClassifier(max_depth=5)\n",
        "dt.fit(x_train,y_train)\n",
        "\n",
        "y_train_pred=dt.predict(x_train)\n",
        "y_test_pred=dt.predict(x_test)\n",
        "\n",
        "\n",
        "dt_train_accuracy=accuracy_score(y_train,y_train_pred)\n",
        "dt_train_mcc=matthews_corrcoef(y_train,y_train_pred)\n",
        "dt_train_f1=f1_score(y_train,y_train_pred,average='weighted')\n",
        "\n",
        "dt_test_accuracy=accuracy_score(y_test,y_test_pred)\n",
        "dt_test_mcc=matthews_corrcoef(y_test,y_test_pred)\n",
        "dt_test_f1=f1_score(y_test,y_test_pred,average='weighted')\n",
        "\n",
        "print('model performance for training set')\n",
        "print('Accuracy:%s',dt_train_accuracy)\n",
        "print('MCC%s',dt_train_mcc)\n",
        "print('f1_score%s',dt_train_f1)\n",
        "\n",
        "\n",
        "print('model performance for test set')\n",
        "print('Accuracy:%s',dt_test_accuracy)\n",
        "print('MCC%s',dt_test_mcc)\n",
        "print('f1_score%s',dt_test_f1)"
      ],
      "metadata": {
        "id": "ITLO9H2gx2W3",
        "colab": {
          "base_uri": "https://localhost:8080/"
        },
        "outputId": "c67085c8-193b-49e9-f95b-dfac54d9ba73"
      },
      "execution_count": null,
      "outputs": [
        {
          "output_type": "stream",
          "name": "stdout",
          "text": [
            "model performance for training set\n",
            "Accuracy:%s 0.8302752293577982\n",
            "MCC%s 0.6606219401536783\n",
            "f1_score%s 0.830280586493416\n",
            "model performance for test set\n",
            "Accuracy:%s 0.8426666666666667\n",
            "MCC%s 0.6856240645204054\n",
            "f1_score%s 0.8426554782002689\n"
          ]
        }
      ]
    },
    {
      "cell_type": "code",
      "source": [
        "from sklearn.ensemble import StackingClassifier\n",
        "from sklearn.linear_model import LogisticRegression\n",
        "\n",
        "estimators=[('knn',knn),('mlp',mlp),('rf',rf)]\n",
        "\n",
        "stack_model=StackingClassifier(estimators=estimators,final_estimator=LogisticRegression())\n",
        "\n",
        "stack_model.fit(x_train,y_train)\n",
        "\n",
        "y_train_pred=stack_model.predict(x_train)\n",
        "y_test_pred=stack_model.predict(x_test)\n",
        "\n",
        "stack_model__train_accuracy=accuracy_score(y_train,y_train_pred)\n",
        "stack_model__train_mcc=matthews_corrcoef(y_train,y_train_pred)\n",
        "stack_model_train_f1=f1_score(y_train,y_train_pred,average='weighted')\n",
        "\n",
        "stack_model__test_accuracy=accuracy_score(y_test,y_test_pred)\n",
        "stack_model__test_mcc=matthews_corrcoef(y_test,y_test_pred)\n",
        "stack_model_test_f1=f1_score(y_test,y_test_pred,average='weighted')\n",
        "\n",
        "\n",
        "print(\"training set\")\n",
        "print(\"accurancy %s\",stack_model__train_accuracy)\n",
        "print(\"mcc %s\",stack_model__train_mcc)\n",
        "print(\"f1 score %s\",stack_model_train_f1)\n",
        "\n",
        "print(\"test set\")\n",
        "print(\"accurancy %s\",stack_model__test_accuracy)\n",
        "print(\"mcc %s\",stack_model__test_mcc)\n",
        "print(\"f1 score %s\",stack_model_test_f1)\n"
      ],
      "metadata": {
        "id": "nmfIIVxgO2M5",
        "colab": {
          "base_uri": "https://localhost:8080/"
        },
        "outputId": "09ed372c-c8f0-4604-ed75-3e7e820da930"
      },
      "execution_count": null,
      "outputs": [
        {
          "output_type": "stream",
          "name": "stdout",
          "text": [
            "training set\n",
            "accurancy %s 0.9403669724770642\n",
            "mcc %s 0.8807828807022275\n",
            "f1 score %s 0.9403594411525474\n",
            "test set\n",
            "accurancy %s 0.8586666666666667\n",
            "mcc %s 0.7208027043394065\n",
            "f1 score %s 0.8582451102817876\n"
          ]
        }
      ]
    },
    {
      "cell_type": "code",
      "source": [],
      "metadata": {
        "id": "FpSaNUkfb6oK"
      },
      "execution_count": null,
      "outputs": []
    }
  ]
}